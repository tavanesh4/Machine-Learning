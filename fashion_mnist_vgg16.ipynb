{
  "nbformat": 4,
  "nbformat_minor": 0,
  "metadata": {
    "colab": {
      "name": "fashion_mnist_vgg16.ipynb",
      "provenance": [],
      "collapsed_sections": []
    },
    "kernelspec": {
      "name": "python3",
      "display_name": "Python 3"
    },
    "accelerator": "GPU"
  },
  "cells": [
    {
      "cell_type": "markdown",
      "metadata": {
        "id": "GKizqQtSk7Ot",
        "colab_type": "text"
      },
      "source": [
        "Importing Libraries"
      ]
    },
    {
      "cell_type": "code",
      "metadata": {
        "id": "A5HaNT-hjEjg",
        "colab_type": "code",
        "outputId": "7c6738d2-23cd-43e3-a86d-b169cdff5279",
        "colab": {
          "base_uri": "https://localhost:8080/",
          "height": 34
        }
      },
      "source": [
        "import pandas as pd\n",
        "import numpy as np\n",
        "import matplotlib.pyplot as plt\n",
        "from sklearn.model_selection import train_test_split\n",
        "import tensorflow as tf\n",
        "from tensorflow import keras\n",
        "from keras.datasets import fashion_mnist\n",
        "from tensorflow.keras.models import Sequential\n",
        "from tensorflow.keras.layers import Dense, BatchNormalization, Dropout, Conv2D, MaxPooling2D, Flatten\n",
        "from keras.utils import np_utils\n",
        "\n",
        "from tensorflow.keras.models import Model\n",
        "from tensorflow.keras.applications.vgg16 import VGG16, preprocess_input, decode_predictions\n",
        "from tensorflow.keras.applications.vgg19 import VGG19, preprocess_input, decode_predictions\n",
        "from tensorflow.keras.applications.resnet50 import ResNet50, preprocess_input, decode_predictions\n"
      ],
      "execution_count": 1,
      "outputs": [
        {
          "output_type": "stream",
          "text": [
            "Using TensorFlow backend.\n"
          ],
          "name": "stderr"
        }
      ]
    },
    {
      "cell_type": "markdown",
      "metadata": {
        "id": "J3W1Ze3JmxyB",
        "colab_type": "text"
      },
      "source": [
        "Loading data and splitting into Train and Test datasets"
      ]
    },
    {
      "cell_type": "code",
      "metadata": {
        "id": "uG9zxvI0k4QK",
        "colab_type": "code",
        "outputId": "1eb65493-b45a-4719-9c48-cb9a06018d2f",
        "colab": {
          "base_uri": "https://localhost:8080/",
          "height": 50
        }
      },
      "source": [
        "(X_train, y_train), (X_test, y_test) = fashion_mnist.load_data()\n",
        "\n",
        "print(\" \")\n",
        "X_train.shape, y_train.shape"
      ],
      "execution_count": 2,
      "outputs": [
        {
          "output_type": "stream",
          "text": [
            " \n"
          ],
          "name": "stdout"
        },
        {
          "output_type": "execute_result",
          "data": {
            "text/plain": [
              "((60000, 28, 28), (60000,))"
            ]
          },
          "metadata": {
            "tags": []
          },
          "execution_count": 2
        }
      ]
    },
    {
      "cell_type": "markdown",
      "metadata": {
        "id": "2rNSM0s_YTnu",
        "colab_type": "text"
      },
      "source": [
        "Extracting unique values of labels"
      ]
    },
    {
      "cell_type": "code",
      "metadata": {
        "id": "Wz27JopWnjsp",
        "colab_type": "code",
        "outputId": "8c90ceeb-0b42-4586-e2d8-cb4fa71509ca",
        "colab": {
          "base_uri": "https://localhost:8080/",
          "height": 34
        }
      },
      "source": [
        "np.unique(y_train)"
      ],
      "execution_count": 3,
      "outputs": [
        {
          "output_type": "execute_result",
          "data": {
            "text/plain": [
              "array([0, 1, 2, 3, 4, 5, 6, 7, 8, 9], dtype=uint8)"
            ]
          },
          "metadata": {
            "tags": []
          },
          "execution_count": 3
        }
      ]
    },
    {
      "cell_type": "markdown",
      "metadata": {
        "id": "9N4dMd6kYddr",
        "colab_type": "text"
      },
      "source": [
        "plotting a figure of feature"
      ]
    },
    {
      "cell_type": "code",
      "metadata": {
        "id": "DoApZwY6nrgW",
        "colab_type": "code",
        "outputId": "ffc6a1b3-5874-426a-d8bc-9a3d5d7325d2",
        "colab": {
          "base_uri": "https://localhost:8080/",
          "height": 265
        }
      },
      "source": [
        "plt.figure(figsize=(6,4))\n",
        "plt.imshow(X_train[0])\n",
        "plt.show()"
      ],
      "execution_count": 4,
      "outputs": [
        {
          "output_type": "display_data",
          "data": {
            "image/png": "[encoded data removed]",
            "text/plain": [
              "<Figure size 432x288 with 1 Axes>"
            ]
          },
          "metadata": {
            "tags": [],
            "needs_background": "light"
          }
        }
      ]
    },
    {
      "cell_type": "markdown",
      "metadata": {
        "id": "ghWjXFudYtNL",
        "colab_type": "text"
      },
      "source": [
        "Reshaping of Features for inputs"
      ]
    },
    {
      "cell_type": "code",
      "metadata": {
        "id": "cQvw1qKjLFiY",
        "colab_type": "code",
        "outputId": "1ad1bd2e-2278-48f1-aaf7-878935291e56",
        "colab": {
          "base_uri": "https://localhost:8080/",
          "height": 34
        }
      },
      "source": [
        "X_train = X_train.reshape(X_train.shape[0],28,28,1)\n",
        "X_test = X_test.reshape(X_test.shape[0],28,28,1)\n",
        "\n",
        "X_train.shape, X_test.shape"
      ],
      "execution_count": 5,
      "outputs": [
        {
          "output_type": "execute_result",
          "data": {
            "text/plain": [
              "((60000, 28, 28, 1), (10000, 28, 28, 1))"
            ]
          },
          "metadata": {
            "tags": []
          },
          "execution_count": 5
        }
      ]
    },
    {
      "cell_type": "markdown",
      "metadata": {
        "id": "OhF2-v14D2Es",
        "colab_type": "text"
      },
      "source": [
        "Converting Channel 1 to Channel 3"
      ]
    },
    {
      "cell_type": "code",
      "metadata": {
        "id": "U5uvvYtYyOUC",
        "colab_type": "code",
        "outputId": "7cd29e09-d004-4f58-eff0-13d491e2244c",
        "colab": {
          "base_uri": "https://localhost:8080/",
          "height": 34
        }
      },
      "source": [
        "X_train = np.repeat(X_train,3,-1)\n",
        "X_test = np.repeat(X_test,3,-1)\n",
        "\n",
        "X_train.shape, X_test.shape"
      ],
      "execution_count": 6,
      "outputs": [
        {
          "output_type": "execute_result",
          "data": {
            "text/plain": [
              "((60000, 28, 28, 3), (10000, 28, 28, 3))"
            ]
          },
          "metadata": {
            "tags": []
          },
          "execution_count": 6
        }
      ]
    },
    {
      "cell_type": "markdown",
      "metadata": {
        "id": "yf9fEyAuSX-9",
        "colab_type": "text"
      },
      "source": [
        "Normalization of features"
      ]
    },
    {
      "cell_type": "code",
      "metadata": {
        "id": "QKC1Z_03SPkC",
        "colab_type": "code",
        "colab": {}
      },
      "source": [
        "X_train = X_train.astype('float32')/255\n",
        "X_test = X_test.astype('float32')/255"
      ],
      "execution_count": 0,
      "outputs": []
    },
    {
      "cell_type": "markdown",
      "metadata": {
        "id": "1mj0ESVWY5py",
        "colab_type": "text"
      },
      "source": [
        "Converting labels into Binary form"
      ]
    },
    {
      "cell_type": "code",
      "metadata": {
        "id": "htLjGO38Lhk9",
        "colab_type": "code",
        "outputId": "df722ab3-4ab6-454a-9c83-4ec4b1ceb55a",
        "colab": {
          "base_uri": "https://localhost:8080/",
          "height": 34
        }
      },
      "source": [
        "y_train = np_utils.to_categorical(y_train.astype('float32'),num_classes=10)\n",
        "y_test = np_utils.to_categorical(y_test.astype('float32'),num_classes=10)\n",
        "\n",
        "y_train[0]"
      ],
      "execution_count": 8,
      "outputs": [
        {
          "output_type": "execute_result",
          "data": {
            "text/plain": [
              "array([0., 0., 0., 0., 0., 0., 0., 0., 0., 1.], dtype=float32)"
            ]
          },
          "metadata": {
            "tags": []
          },
          "execution_count": 8
        }
      ]
    },
    {
      "cell_type": "code",
      "metadata": {
        "id": "_jeurp6ZposH",
        "colab_type": "code",
        "colab": {
          "base_uri": "https://localhost:8080/",
          "height": 34
        },
        "outputId": "8c29c2eb-187a-4bee-8369-7729767adde1"
      },
      "source": [
        "# Resize the images as 150 * 150 as required by VGG19\n",
        "from keras.preprocessing.image import img_to_array, array_to_img\n",
        "\n",
        "X_train = np.asarray([img_to_array(array_to_img(im, scale=False).resize((48,48))) for im in X_train])\n",
        "X_test = np.asarray([img_to_array(array_to_img(im, scale=False).resize((48,48))) for im in X_test])\n",
        "\n",
        "# Display the new shape\n",
        "X_train.shape, X_test.shape"
      ],
      "execution_count": 9,
      "outputs": [
        {
          "output_type": "execute_result",
          "data": {
            "text/plain": [
              "((60000, 48, 48, 3), (10000, 48, 48, 3))"
            ]
          },
          "metadata": {
            "tags": []
          },
          "execution_count": 9
        }
      ]
    },
    {
      "cell_type": "code",
      "metadata": {
        "id": "5yKwvMTnqul8",
        "colab_type": "code",
        "colab": {
          "base_uri": "https://localhost:8080/",
          "height": 34
        },
        "outputId": "ce5ff9f5-0b71-4445-a5d2-4a2b35697070"
      },
      "source": [
        "# Here I split original training data to sub-training (80%) and validation data (20%)\n",
        "X_train, X_val, y_train, y_val = train_test_split(X_train, y_train, test_size=0.2, random_state=13)\n",
        "\n",
        "# Check the data size whether it is as per tensorflow and VGG19 requirement\n",
        "X_train.shape, X_val.shape, y_train.shape, y_val.shape"
      ],
      "execution_count": 10,
      "outputs": [
        {
          "output_type": "execute_result",
          "data": {
            "text/plain": [
              "((48000, 48, 48, 3), (12000, 48, 48, 3), (48000, 10), (12000, 10))"
            ]
          },
          "metadata": {
            "tags": []
          },
          "execution_count": 10
        }
      ]
    },
    {
      "cell_type": "code",
      "metadata": {
        "id": "F63n7qVIsLK2",
        "colab_type": "code",
        "outputId": "d51cd97d-dace-4959-8aed-9ddf71d45c25",
        "colab": {
          "base_uri": "https://localhost:8080/",
          "height": 34
        }
      },
      "source": [
        "y_train.shape, y_test.shape"
      ],
      "execution_count": 11,
      "outputs": [
        {
          "output_type": "execute_result",
          "data": {
            "text/plain": [
              "((48000, 10), (10000, 10))"
            ]
          },
          "metadata": {
            "tags": []
          },
          "execution_count": 11
        }
      ]
    },
    {
      "cell_type": "markdown",
      "metadata": {
        "id": "CD0OpknZZUhw",
        "colab_type": "text"
      },
      "source": [
        "Building model"
      ]
    },
    {
      "cell_type": "code",
      "metadata": {
        "id": "hqCo2Jd2Ar-U",
        "colab_type": "code",
        "colab": {}
      },
      "source": [
        "#model = ResNet50(include_top=True, weights=None, input_shape=(48,48,3), classes=10, classifier_activation='softmax')\n",
        "#model.summary()"
      ],
      "execution_count": 0,
      "outputs": []
    },
    {
      "cell_type": "code",
      "metadata": {
        "id": "E2lmK3pSMzfa",
        "colab_type": "code",
        "outputId": "795e2db8-4a1a-40f4-82b3-d9212234223b",
        "colab": {
          "base_uri": "https://localhost:8080/",
          "height": 790
        }
      },
      "source": [
        "# Create the base model of VGG19\n",
        "model = VGG16(weights='imagenet', include_top=False, input_shape = (48,48,3))\n",
        "model.summary()"
      ],
      "execution_count": 14,
      "outputs": [
        {
          "output_type": "stream",
          "text": [
            "Model: \"vgg16\"\n",
            "_________________________________________________________________\n",
            "Layer (type)                 Output Shape              Param #   \n",
            "=================================================================\n",
            "input_1 (InputLayer)         [(None, 48, 48, 3)]       0         \n",
            "_________________________________________________________________\n",
            "block1_conv1 (Conv2D)        (None, 48, 48, 64)        1792      \n",
            "_________________________________________________________________\n",
            "block1_conv2 (Conv2D)        (None, 48, 48, 64)        36928     \n",
            "_________________________________________________________________\n",
            "block1_pool (MaxPooling2D)   (None, 24, 24, 64)        0         \n",
            "_________________________________________________________________\n",
            "block2_conv1 (Conv2D)        (None, 24, 24, 128)       73856     \n",
            "_________________________________________________________________\n",
            "block2_conv2 (Conv2D)        (None, 24, 24, 128)       147584    \n",
            "_________________________________________________________________\n",
            "block2_pool (MaxPooling2D)   (None, 12, 12, 128)       0         \n",
            "_________________________________________________________________\n",
            "block3_conv1 (Conv2D)        (None, 12, 12, 256)       295168    \n",
            "_________________________________________________________________\n",
            "block3_conv2 (Conv2D)        (None, 12, 12, 256)       590080    \n",
            "_________________________________________________________________\n",
            "block3_conv3 (Conv2D)        (None, 12, 12, 256)       590080    \n",
            "_________________________________________________________________\n",
            "block3_pool (MaxPooling2D)   (None, 6, 6, 256)         0         \n",
            "_________________________________________________________________\n",
            "block4_conv1 (Conv2D)        (None, 6, 6, 512)         1180160   \n",
            "_________________________________________________________________\n",
            "block4_conv2 (Conv2D)        (None, 6, 6, 512)         2359808   \n",
            "_________________________________________________________________\n",
            "block4_conv3 (Conv2D)        (None, 6, 6, 512)         2359808   \n",
            "_________________________________________________________________\n",
            "block4_pool (MaxPooling2D)   (None, 3, 3, 512)         0         \n",
            "_________________________________________________________________\n",
            "block5_conv1 (Conv2D)        (None, 3, 3, 512)         2359808   \n",
            "_________________________________________________________________\n",
            "block5_conv2 (Conv2D)        (None, 3, 3, 512)         2359808   \n",
            "_________________________________________________________________\n",
            "block5_conv3 (Conv2D)        (None, 3, 3, 512)         2359808   \n",
            "_________________________________________________________________\n",
            "block5_pool (MaxPooling2D)   (None, 1, 1, 512)         0         \n",
            "=================================================================\n",
            "Total params: 14,714,688\n",
            "Trainable params: 14,714,688\n",
            "Non-trainable params: 0\n",
            "_________________________________________________________________\n"
          ],
          "name": "stdout"
        }
      ]
    },
    {
      "cell_type": "code",
      "metadata": {
        "id": "_F1slwJSry3o",
        "colab_type": "code",
        "colab": {}
      },
      "source": [
        "# Preprocessing the input \n",
        "X_train = preprocess_input(X_train)\n",
        "X_val = preprocess_input(X_val)\n",
        "X_test = preprocess_input(X_test)"
      ],
      "execution_count": 0,
      "outputs": []
    },
    {
      "cell_type": "code",
      "metadata": {
        "id": "Nenb3LPOMzYn",
        "colab_type": "code",
        "outputId": "f3117f02-6db0-43db-85c4-ba2e5871c4fd",
        "colab": {
          "base_uri": "https://localhost:8080/",
          "height": 67
        }
      },
      "source": [
        "# Extracting features\n",
        "train_features = model.predict(np.array(X_train), batch_size=100, verbose=1)\n",
        "test_features = model.predict(np.array(X_test), batch_size=100, verbose=1)\n",
        "val_features = model.predict(np.array(X_val), batch_size=100, verbose=1)"
      ],
      "execution_count": 16,
      "outputs": [
        {
          "output_type": "stream",
          "text": [
            "480/480 [==============================] - 34s 71ms/step\n",
            "100/100 [==============================] - 7s 70ms/step\n",
            "120/120 [==============================] - 8s 69ms/step\n"
          ],
          "name": "stdout"
        }
      ]
    },
    {
      "cell_type": "code",
      "metadata": {
        "id": "Oa_VI54_MzUL",
        "colab_type": "code",
        "colab": {}
      },
      "source": [
        "# Saving the features so that they can be used for future\n",
        "np.savez(\"train_features\", train_features, y_train)\n",
        "np.savez(\"test_features\", test_features, y_test)\n",
        "np.savez(\"val_features\", val_features, y_val)"
      ],
      "execution_count": 0,
      "outputs": []
    },
    {
      "cell_type": "code",
      "metadata": {
        "id": "Zt1xxGJrMzTI",
        "colab_type": "code",
        "outputId": "736d0901-01a9-4d11-c6b8-f6b5ac21f865",
        "colab": {
          "base_uri": "https://localhost:8080/",
          "height": 67
        }
      },
      "source": [
        "# Current shape of features\n",
        "print(train_features.shape, \"\\n\",  test_features.shape, \"\\n\", val_features.shape)"
      ],
      "execution_count": 18,
      "outputs": [
        {
          "output_type": "stream",
          "text": [
            "(48000, 1, 1, 512) \n",
            " (10000, 1, 1, 512) \n",
            " (12000, 1, 1, 512)\n"
          ],
          "name": "stdout"
        }
      ]
    },
    {
      "cell_type": "code",
      "metadata": {
        "id": "627ws0GbMzOe",
        "colab_type": "code",
        "colab": {}
      },
      "source": [
        "# Flatten extracted features\n",
        "train_features = np.reshape(train_features, (48000, 1*1*512))\n",
        "test_features = np.reshape(test_features, (10000, 1*1*512))\n",
        "val_features = np.reshape(val_features, (12000, 1*1*512))"
      ],
      "execution_count": 0,
      "outputs": []
    },
    {
      "cell_type": "code",
      "metadata": {
        "id": "jBz9nPLdMzGn",
        "colab_type": "code",
        "colab": {}
      },
      "source": [
        "\n",
        "from tensorflow.keras.models import Model\n",
        "from tensorflow.keras import models\n",
        "from tensorflow.keras import callbacks\n",
        "from tensorflow.keras import layers\n",
        "from keras.layers.advanced_activations import LeakyReLU\n",
        "\n",
        "# Add Dense layers on top of VGG19 pre-trained\n",
        "model = models.Sequential()\n",
        "model.add(layers.Dense(512, activation='relu', input_dim=(1*1*512)))\n",
        "model.add(layers.LeakyReLU(alpha=0.1))\n",
        "model.add(layers.Dense(10, activation='softmax'))"
      ],
      "execution_count": 0,
      "outputs": []
    },
    {
      "cell_type": "code",
      "metadata": {
        "id": "5koLHwrvrIgA",
        "colab_type": "code",
        "colab": {}
      },
      "source": [
        "model.compile(optimizer='adam', loss='categorical_crossentropy', metrics=['accuracy'])"
      ],
      "execution_count": 0,
      "outputs": []
    },
    {
      "cell_type": "code",
      "metadata": {
        "id": "tcVa9jRpeSKI",
        "colab_type": "code",
        "outputId": "de287f16-38aa-4df3-91a8-9cdec8f7451e",
        "colab": {
          "base_uri": "https://localhost:8080/",
          "height": 34
        }
      },
      "source": [
        "\n",
        "# Incorporating reduced learning and early stopping for callback\n",
        "from tensorflow.keras import callbacks\n",
        "reduce_learning = callbacks.ReduceLROnPlateau(\n",
        "    monitor='val_loss',\n",
        "    factor=0.2,\n",
        "    patience=2,\n",
        "    verbose=1,\n",
        "    mode='auto',\n",
        "    epsilon=0.0001,\n",
        "    cooldown=2,\n",
        "    min_lr=0)\n",
        "\n",
        "early_stopping = callbacks.EarlyStopping(\n",
        "    monitor='val_loss',\n",
        "    min_delta=0,\n",
        "    patience=7,\n",
        "    verbose=1,\n",
        "    mode='auto')\n",
        "\n",
        "callbacks = [reduce_learning, early_stopping]\n"
      ],
      "execution_count": 22,
      "outputs": [
        {
          "output_type": "stream",
          "text": [
            "WARNING:tensorflow:`epsilon` argument is deprecated and will be removed, use `min_delta` instead.\n"
          ],
          "name": "stdout"
        }
      ]
    },
    {
      "cell_type": "code",
      "metadata": {
        "id": "FyIR1gZ2MIF-",
        "colab_type": "code",
        "outputId": "962a9193-e98b-4220-8c51-6e941f8e03be",
        "colab": {
          "base_uri": "https://localhost:8080/",
          "height": 1000
        }
      },
      "source": [
        "# Train the the model\n",
        "model.fit(train_features, y_train, epochs=50, validation_data=(val_features, y_val), callbacks=callbacks)"
      ],
      "execution_count": 23,
      "outputs": [
        {
          "output_type": "stream",
          "text": [
            "Epoch 1/50\n",
            "1500/1500 [==============================] - 5s 4ms/step - loss: 2.3865 - accuracy: 0.1298 - val_loss: 2.3337 - val_accuracy: 0.1226 - lr: 0.0010\n",
            "Epoch 2/50\n",
            "1500/1500 [==============================] - 5s 4ms/step - loss: 2.2534 - accuracy: 0.1587 - val_loss: 2.1830 - val_accuracy: 0.1876 - lr: 0.0010\n",
            "Epoch 3/50\n",
            "1500/1500 [==============================] - 5s 4ms/step - loss: 2.1924 - accuracy: 0.1818 - val_loss: 2.1555 - val_accuracy: 0.1900 - lr: 0.0010\n",
            "Epoch 4/50\n",
            "1500/1500 [==============================] - 5s 4ms/step - loss: 2.1611 - accuracy: 0.1941 - val_loss: 2.1579 - val_accuracy: 0.2057 - lr: 0.0010\n",
            "Epoch 5/50\n",
            "1487/1500 [============================>.] - ETA: 0s - loss: 2.1359 - accuracy: 0.2070\n",
            "Epoch 00005: ReduceLROnPlateau reducing learning rate to 0.00020000000949949026.\n",
            "1500/1500 [==============================] - 5s 4ms/step - loss: 2.1357 - accuracy: 0.2072 - val_loss: 2.1668 - val_accuracy: 0.1710 - lr: 0.0010\n",
            "Epoch 6/50\n",
            "1500/1500 [==============================] - 5s 4ms/step - loss: 2.0889 - accuracy: 0.2389 - val_loss: 2.0842 - val_accuracy: 0.2470 - lr: 2.0000e-04\n",
            "Epoch 7/50\n",
            "1500/1500 [==============================] - 5s 3ms/step - loss: 2.0750 - accuracy: 0.2445 - val_loss: 2.0760 - val_accuracy: 0.2473 - lr: 2.0000e-04\n",
            "Epoch 8/50\n",
            "1500/1500 [==============================] - 5s 4ms/step - loss: 2.0661 - accuracy: 0.2486 - val_loss: 2.0707 - val_accuracy: 0.2442 - lr: 2.0000e-04\n",
            "Epoch 9/50\n",
            "1500/1500 [==============================] - 5s 4ms/step - loss: 2.0573 - accuracy: 0.2501 - val_loss: 2.0885 - val_accuracy: 0.2204 - lr: 2.0000e-04\n",
            "Epoch 10/50\n",
            "1500/1500 [==============================] - 5s 4ms/step - loss: 2.0522 - accuracy: 0.2520 - val_loss: 2.0552 - val_accuracy: 0.2549 - lr: 2.0000e-04\n",
            "Epoch 11/50\n",
            "1500/1500 [==============================] - 5s 4ms/step - loss: 2.0457 - accuracy: 0.2544 - val_loss: 2.0525 - val_accuracy: 0.2530 - lr: 2.0000e-04\n",
            "Epoch 12/50\n",
            "1500/1500 [==============================] - 5s 3ms/step - loss: 2.0400 - accuracy: 0.2555 - val_loss: 2.0426 - val_accuracy: 0.2559 - lr: 2.0000e-04\n",
            "Epoch 13/50\n",
            "1500/1500 [==============================] - 5s 4ms/step - loss: 2.0348 - accuracy: 0.2563 - val_loss: 2.0719 - val_accuracy: 0.2497 - lr: 2.0000e-04\n",
            "Epoch 14/50\n",
            "1500/1500 [==============================] - 5s 4ms/step - loss: 2.0300 - accuracy: 0.2588 - val_loss: 2.0289 - val_accuracy: 0.2682 - lr: 2.0000e-04\n",
            "Epoch 15/50\n",
            "1500/1500 [==============================] - 5s 4ms/step - loss: 2.0249 - accuracy: 0.2618 - val_loss: 2.0364 - val_accuracy: 0.2591 - lr: 2.0000e-04\n",
            "Epoch 16/50\n",
            "1500/1500 [==============================] - 5s 4ms/step - loss: 2.0207 - accuracy: 0.2616 - val_loss: 2.0194 - val_accuracy: 0.2638 - lr: 2.0000e-04\n",
            "Epoch 17/50\n",
            "1500/1500 [==============================] - 5s 4ms/step - loss: 2.0160 - accuracy: 0.2642 - val_loss: 2.0203 - val_accuracy: 0.2607 - lr: 2.0000e-04\n",
            "Epoch 18/50\n",
            "1499/1500 [============================>.] - ETA: 0s - loss: 2.0124 - accuracy: 0.2667\n",
            "Epoch 00018: ReduceLROnPlateau reducing learning rate to 4.0000001899898055e-05.\n",
            "1500/1500 [==============================] - 5s 4ms/step - loss: 2.0124 - accuracy: 0.2666 - val_loss: 2.0360 - val_accuracy: 0.2522 - lr: 2.0000e-04\n",
            "Epoch 19/50\n",
            "1500/1500 [==============================] - 5s 4ms/step - loss: 1.9949 - accuracy: 0.2754 - val_loss: 2.0045 - val_accuracy: 0.2739 - lr: 4.0000e-05\n",
            "Epoch 20/50\n",
            "1500/1500 [==============================] - 5s 4ms/step - loss: 1.9931 - accuracy: 0.2769 - val_loss: 2.0049 - val_accuracy: 0.2717 - lr: 4.0000e-05\n",
            "Epoch 21/50\n",
            "1497/1500 [============================>.] - ETA: 0s - loss: 1.9912 - accuracy: 0.2779\n",
            "Epoch 00021: ReduceLROnPlateau reducing learning rate to 8.000000525498762e-06.\n",
            "1500/1500 [==============================] - 5s 4ms/step - loss: 1.9912 - accuracy: 0.2778 - val_loss: 2.0054 - val_accuracy: 0.2743 - lr: 4.0000e-05\n",
            "Epoch 22/50\n",
            "1500/1500 [==============================] - 5s 4ms/step - loss: 1.9874 - accuracy: 0.2805 - val_loss: 2.0012 - val_accuracy: 0.2795 - lr: 8.0000e-06\n",
            "Epoch 23/50\n",
            "1500/1500 [==============================] - 5s 3ms/step - loss: 1.9868 - accuracy: 0.2815 - val_loss: 2.0011 - val_accuracy: 0.2735 - lr: 8.0000e-06\n",
            "Epoch 24/50\n",
            "1500/1500 [==============================] - 6s 4ms/step - loss: 1.9865 - accuracy: 0.2817 - val_loss: 2.0016 - val_accuracy: 0.2725 - lr: 8.0000e-06\n",
            "Epoch 25/50\n",
            "1496/1500 [============================>.] - ETA: 0s - loss: 1.9861 - accuracy: 0.2807\n",
            "Epoch 00025: ReduceLROnPlateau reducing learning rate to 1.6000001778593287e-06.\n",
            "1500/1500 [==============================] - 6s 4ms/step - loss: 1.9862 - accuracy: 0.2806 - val_loss: 2.0025 - val_accuracy: 0.2720 - lr: 8.0000e-06\n",
            "Epoch 26/50\n",
            "1500/1500 [==============================] - 5s 4ms/step - loss: 1.9855 - accuracy: 0.2824 - val_loss: 2.0005 - val_accuracy: 0.2742 - lr: 1.6000e-06\n",
            "Epoch 27/50\n",
            "1500/1500 [==============================] - 5s 4ms/step - loss: 1.9853 - accuracy: 0.2824 - val_loss: 2.0004 - val_accuracy: 0.2783 - lr: 1.6000e-06\n",
            "Epoch 28/50\n",
            "1500/1500 [==============================] - 5s 4ms/step - loss: 1.9852 - accuracy: 0.2825 - val_loss: 2.0000 - val_accuracy: 0.2786 - lr: 1.6000e-06\n",
            "Epoch 29/50\n",
            "1500/1500 [==============================] - 5s 4ms/step - loss: 1.9851 - accuracy: 0.2821 - val_loss: 2.0001 - val_accuracy: 0.2803 - lr: 1.6000e-06\n",
            "Epoch 30/50\n",
            "1500/1500 [==============================] - ETA: 0s - loss: 1.9851 - accuracy: 0.2837\n",
            "Epoch 00030: ReduceLROnPlateau reducing learning rate to 3.200000264769187e-07.\n",
            "1500/1500 [==============================] - 5s 4ms/step - loss: 1.9851 - accuracy: 0.2837 - val_loss: 2.0000 - val_accuracy: 0.2754 - lr: 1.6000e-06\n",
            "Epoch 31/50\n",
            "1500/1500 [==============================] - 5s 4ms/step - loss: 1.9849 - accuracy: 0.2822 - val_loss: 2.0000 - val_accuracy: 0.2765 - lr: 3.2000e-07\n",
            "Epoch 32/50\n",
            "1500/1500 [==============================] - 5s 4ms/step - loss: 1.9849 - accuracy: 0.2830 - val_loss: 2.0000 - val_accuracy: 0.2767 - lr: 3.2000e-07\n",
            "Epoch 33/50\n",
            "1486/1500 [============================>.] - ETA: 0s - loss: 1.9852 - accuracy: 0.2830\n",
            "Epoch 00033: ReduceLROnPlateau reducing learning rate to 6.400000529538374e-08.\n",
            "1500/1500 [==============================] - 5s 4ms/step - loss: 1.9849 - accuracy: 0.2833 - val_loss: 1.9999 - val_accuracy: 0.2788 - lr: 3.2000e-07\n",
            "Epoch 34/50\n",
            "1500/1500 [==============================] - 5s 4ms/step - loss: 1.9848 - accuracy: 0.2850 - val_loss: 2.0000 - val_accuracy: 0.2788 - lr: 6.4000e-08\n",
            "Epoch 35/50\n",
            "1500/1500 [==============================] - 5s 4ms/step - loss: 1.9848 - accuracy: 0.2851 - val_loss: 2.0000 - val_accuracy: 0.2791 - lr: 6.4000e-08\n",
            "Epoch 36/50\n",
            "1497/1500 [============================>.] - ETA: 0s - loss: 1.9848 - accuracy: 0.2850\n",
            "Epoch 00036: ReduceLROnPlateau reducing learning rate to 1.2800001059076749e-08.\n",
            "1500/1500 [==============================] - 5s 4ms/step - loss: 1.9848 - accuracy: 0.2851 - val_loss: 2.0000 - val_accuracy: 0.2791 - lr: 6.4000e-08\n",
            "Epoch 37/50\n",
            "1500/1500 [==============================] - 5s 4ms/step - loss: 1.9848 - accuracy: 0.2850 - val_loss: 2.0000 - val_accuracy: 0.2791 - lr: 1.2800e-08\n",
            "Epoch 38/50\n",
            "1500/1500 [==============================] - 5s 4ms/step - loss: 1.9848 - accuracy: 0.2850 - val_loss: 2.0000 - val_accuracy: 0.2791 - lr: 1.2800e-08\n",
            "Epoch 39/50\n",
            "1491/1500 [============================>.] - ETA: 0s - loss: 1.9849 - accuracy: 0.2848\n",
            "Epoch 00039: ReduceLROnPlateau reducing learning rate to 2.5600002118153498e-09.\n",
            "1500/1500 [==============================] - 5s 4ms/step - loss: 1.9848 - accuracy: 0.2850 - val_loss: 2.0000 - val_accuracy: 0.2791 - lr: 1.2800e-08\n",
            "Epoch 40/50\n",
            "1500/1500 [==============================] - 5s 4ms/step - loss: 1.9848 - accuracy: 0.2850 - val_loss: 2.0000 - val_accuracy: 0.2791 - lr: 2.5600e-09\n",
            "Epoch 00040: early stopping\n"
          ],
          "name": "stdout"
        },
        {
          "output_type": "execute_result",
          "data": {
            "text/plain": [
              "<tensorflow.python.keras.callbacks.History at 0x7f840f78f748>"
            ]
          },
          "metadata": {
            "tags": []
          },
          "execution_count": 23
        }
      ]
    },
    {
      "cell_type": "code",
      "metadata": {
        "id": "4Sb82VVFaKcd",
        "colab_type": "code",
        "colab": {}
      },
      "source": [
        "model.save(\"/content/drive/My Drive/FMNIST/fashion_mnist_vgg19.h5\")"
      ],
      "execution_count": 0,
      "outputs": []
    },
    {
      "cell_type": "code",
      "metadata": {
        "id": "r8DS5H_jfSSG",
        "colab_type": "code",
        "colab": {}
      },
      "source": [
        ""
      ],
      "execution_count": 0,
      "outputs": []
    }
  ]
}