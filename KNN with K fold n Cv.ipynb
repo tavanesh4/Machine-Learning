{
 "cells": [
  {
   "cell_type": "code",
   "execution_count": 1,
   "metadata": {},
   "outputs": [],
   "source": [
    "import pandas as pd\n",
    "import numpy as np\n",
    "import matplotlib.pyplot as plt\n",
    "from sklearn.neighbors import KNeighborsClassifier\n",
    "from sklearn.model_selection import train_test_split\n",
    "from sklearn.model_selection import cross_val_score\n",
    "from sklearn import metrics\n",
    "import warnings\n",
    "warnings.filterwarnings('ignore')\n",
    "%matplotlib inline"
   ]
  },
  {
   "cell_type": "code",
   "execution_count": 2,
   "metadata": {},
   "outputs": [
    {
     "data": {
      "text/html": [
       "<div>\n",
       "<style scoped>\n",
       "    .dataframe tbody tr th:only-of-type {\n",
       "        vertical-align: middle;\n",
       "    }\n",
       "\n",
       "    .dataframe tbody tr th {\n",
       "        vertical-align: top;\n",
       "    }\n",
       "\n",
       "    .dataframe thead th {\n",
       "        text-align: right;\n",
       "    }\n",
       "</style>\n",
       "<table border=\"1\" class=\"dataframe\">\n",
       "  <thead>\n",
       "    <tr style=\"text-align: right;\">\n",
       "      <th></th>\n",
       "      <th>x</th>\n",
       "      <th>y</th>\n",
       "      <th>class</th>\n",
       "    </tr>\n",
       "  </thead>\n",
       "  <tbody>\n",
       "    <tr>\n",
       "      <th>0</th>\n",
       "      <td>0.700335</td>\n",
       "      <td>-0.247068</td>\n",
       "      <td>0.0</td>\n",
       "    </tr>\n",
       "    <tr>\n",
       "      <th>1</th>\n",
       "      <td>-3.950019</td>\n",
       "      <td>2.740080</td>\n",
       "      <td>1.0</td>\n",
       "    </tr>\n",
       "    <tr>\n",
       "      <th>2</th>\n",
       "      <td>0.150222</td>\n",
       "      <td>-2.157638</td>\n",
       "      <td>1.0</td>\n",
       "    </tr>\n",
       "    <tr>\n",
       "      <th>3</th>\n",
       "      <td>-1.672050</td>\n",
       "      <td>-0.941519</td>\n",
       "      <td>1.0</td>\n",
       "    </tr>\n",
       "    <tr>\n",
       "      <th>4</th>\n",
       "      <td>2.560483</td>\n",
       "      <td>-1.846577</td>\n",
       "      <td>1.0</td>\n",
       "    </tr>\n",
       "  </tbody>\n",
       "</table>\n",
       "</div>"
      ],
      "text/plain": [
       "          x         y  class\n",
       "0  0.700335 -0.247068    0.0\n",
       "1 -3.950019  2.740080    1.0\n",
       "2  0.150222 -2.157638    1.0\n",
       "3 -1.672050 -0.941519    1.0\n",
       "4  2.560483 -1.846577    1.0"
      ]
     },
     "execution_count": 2,
     "metadata": {},
     "output_type": "execute_result"
    }
   ],
   "source": [
    "df = pd.read_csv('3.concertriccir2.csv',header=None,names=['x','y','class'])\n",
    "df.head()"
   ]
  },
  {
   "cell_type": "code",
   "execution_count": 3,
   "metadata": {},
   "outputs": [
    {
     "data": {
      "text/plain": [
       "(500, 3)"
      ]
     },
     "execution_count": 3,
     "metadata": {},
     "output_type": "execute_result"
    }
   ],
   "source": [
    "df.shape"
   ]
  },
  {
   "cell_type": "code",
   "execution_count": 4,
   "metadata": {},
   "outputs": [
    {
     "data": {
      "text/html": [
       "<div>\n",
       "<style scoped>\n",
       "    .dataframe tbody tr th:only-of-type {\n",
       "        vertical-align: middle;\n",
       "    }\n",
       "\n",
       "    .dataframe tbody tr th {\n",
       "        vertical-align: top;\n",
       "    }\n",
       "\n",
       "    .dataframe thead th {\n",
       "        text-align: right;\n",
       "    }\n",
       "</style>\n",
       "<table border=\"1\" class=\"dataframe\">\n",
       "  <thead>\n",
       "    <tr style=\"text-align: right;\">\n",
       "      <th></th>\n",
       "      <th>x</th>\n",
       "      <th>y</th>\n",
       "      <th>class</th>\n",
       "    </tr>\n",
       "  </thead>\n",
       "  <tbody>\n",
       "    <tr>\n",
       "      <th>count</th>\n",
       "      <td>500.000000</td>\n",
       "      <td>500.000000</td>\n",
       "      <td>500.000000</td>\n",
       "    </tr>\n",
       "    <tr>\n",
       "      <th>mean</th>\n",
       "      <td>1.883707</td>\n",
       "      <td>1.869874</td>\n",
       "      <td>0.500000</td>\n",
       "    </tr>\n",
       "    <tr>\n",
       "      <th>std</th>\n",
       "      <td>1.931275</td>\n",
       "      <td>1.986852</td>\n",
       "      <td>0.500501</td>\n",
       "    </tr>\n",
       "    <tr>\n",
       "      <th>min</th>\n",
       "      <td>-3.950019</td>\n",
       "      <td>-3.935098</td>\n",
       "      <td>0.000000</td>\n",
       "    </tr>\n",
       "    <tr>\n",
       "      <th>25%</th>\n",
       "      <td>0.403585</td>\n",
       "      <td>0.426457</td>\n",
       "      <td>0.000000</td>\n",
       "    </tr>\n",
       "    <tr>\n",
       "      <th>50%</th>\n",
       "      <td>2.191547</td>\n",
       "      <td>2.109658</td>\n",
       "      <td>0.500000</td>\n",
       "    </tr>\n",
       "    <tr>\n",
       "      <th>75%</th>\n",
       "      <td>3.349001</td>\n",
       "      <td>3.388552</td>\n",
       "      <td>1.000000</td>\n",
       "    </tr>\n",
       "    <tr>\n",
       "      <th>max</th>\n",
       "      <td>6.712027</td>\n",
       "      <td>7.848278</td>\n",
       "      <td>1.000000</td>\n",
       "    </tr>\n",
       "  </tbody>\n",
       "</table>\n",
       "</div>"
      ],
      "text/plain": [
       "                x           y       class\n",
       "count  500.000000  500.000000  500.000000\n",
       "mean     1.883707    1.869874    0.500000\n",
       "std      1.931275    1.986852    0.500501\n",
       "min     -3.950019   -3.935098    0.000000\n",
       "25%      0.403585    0.426457    0.000000\n",
       "50%      2.191547    2.109658    0.500000\n",
       "75%      3.349001    3.388552    1.000000\n",
       "max      6.712027    7.848278    1.000000"
      ]
     },
     "execution_count": 4,
     "metadata": {},
     "output_type": "execute_result"
    }
   ],
   "source": [
    "df.describe()"
   ]
  },
  {
   "cell_type": "code",
   "execution_count": 5,
   "metadata": {},
   "outputs": [],
   "source": [
    "X = df.iloc[:,0:2]\n",
    "y = df.iloc[:,2]"
   ]
  },
  {
   "cell_type": "code",
   "execution_count": 17,
   "metadata": {},
   "outputs": [
    {
     "name": "stdout",
     "output_type": "stream",
     "text": [
      "Acc of model at K = 1 is 90%\n",
      "Acc of model at K = 3 is 84%\n",
      "Acc of model at K = 5 is 87%\n",
      "Acc of model at K = 7 is 87%\n",
      "Acc of model at K = 9 is 81%\n",
      "Acc of model at K = 11 is 83%\n",
      "Acc of model at K = 13 is 81%\n",
      "Acc of model at K = 15 is 80%\n",
      "Acc of model at K = 17 is 79%\n",
      "Acc of model at K = 19 is 72%\n",
      "Acc of model at K = 21 is 73%\n",
      "Acc of model at K = 23 is 72%\n",
      "Acc of model at K = 25 is 67%\n",
      "Acc of model at K = 27 is 65%\n",
      "Acc of model at K = 29 is 64%\n"
     ]
    }
   ],
   "source": [
    "# Simple Cross Validation\n",
    "\n",
    "X_1,X_test,y_1,y_test = train_test_split(X,y,test_size=0.3,random_state=0)\n",
    "\n",
    "X_tr,X_cv,y_tr,y_cv = train_test_split(X_1,y_1,test_size=0.3,random_state=0)\n",
    "\n",
    "for i in range(1,30,2):\n",
    "    knn = KNeighborsClassifier(n_neighbors=i)\n",
    "    knn.fit(X_tr,y_tr)\n",
    "    y_pred_cv = knn.predict(X_cv)\n",
    "    acc = metrics.accuracy_score(y_cv,y_pred_cv,normalize=True)*float(100)\n",
    "    print('Acc of model at K = %d is %d%%' % (i,acc))"
   ]
  },
  {
   "cell_type": "code",
   "execution_count": 18,
   "metadata": {},
   "outputs": [],
   "source": [
    "knn = KNeighborsClassifier(n_neighbors=7)\n",
    "knn.fit(X_tr,y_tr)\n",
    "y_pred = knn.predict(X_test)"
   ]
  },
  {
   "cell_type": "code",
   "execution_count": 22,
   "metadata": {},
   "outputs": [
    {
     "name": "stdout",
     "output_type": "stream",
     "text": [
      "Acc of KNN at k = 7 is 86%\n"
     ]
    }
   ],
   "source": [
    "acc = metrics.accuracy_score(y_test,y_pred,normalize=True)*float(100)\n",
    "print('Acc of KNN at k = 7 is %d%%' % (acc))"
   ]
  },
  {
   "cell_type": "markdown",
   "metadata": {},
   "source": [
    "### 10 fold Cross Validation"
   ]
  },
  {
   "cell_type": "code",
   "execution_count": 24,
   "metadata": {},
   "outputs": [],
   "source": [
    "X_train, X_test, y_train, y_test = train_test_split(X,y,test_size=0.3,random_state=0)"
   ]
  },
  {
   "cell_type": "code",
   "execution_count": 38,
   "metadata": {},
   "outputs": [
    {
     "name": "stdout",
     "output_type": "stream",
     "text": [
      "Optimal k value = 1\n"
     ]
    }
   ],
   "source": [
    "neighbors = range(1,50,2)\n",
    "\n",
    "Cv_score = []\n",
    "\n",
    "for k in neighbors:\n",
    "    \n",
    "    knn = KNeighborsClassifier(n_neighbors=k)\n",
    "    \n",
    "    score = cross_val_score(knn,X_train,y_train,cv=3,scoring='accuracy')\n",
    "    \n",
    "    Cv_score.append(score.mean())\n",
    "    \n",
    "MSE = [1-x for x in Cv_score]\n",
    "\n",
    "optimal_k = neighbors[MSE.index(min(MSE))]\n",
    "\n",
    "print('Optimal k value = %d' % (optimal_k))"
   ]
  },
  {
   "cell_type": "code",
   "execution_count": 46,
   "metadata": {},
   "outputs": [
    {
     "name": "stdout",
     "output_type": "stream",
     "text": [
      "Accuracy score of knn at k = 1 is 100%\n"
     ]
    }
   ],
   "source": [
    "knn = KNeighborsClassifier(n_neighbors=optimal_k)\n",
    "\n",
    "knn.fit(X_train,y_train)\n",
    "\n",
    "y_pred = knn.predict(X_test)\n",
    "\n",
    "acc = metrics.accuracy_score(y_pred,y_pred)*100\n",
    "\n",
    "print('Accuracy score of knn at k = %d is %d%%' % (optimal_k,acc))"
   ]
  },
  {
   "cell_type": "code",
   "execution_count": 47,
   "metadata": {},
   "outputs": [
    {
     "name": "stdout",
     "output_type": "stream",
     "text": [
      "[0.10300993571011097, 0.14586986167932992, 0.15999415546464058, 0.14572374829534385, 0.1515682836547828, 0.16578998636275077, 0.20007792713812578, 0.2084550944866549, 0.2197545295149036, 0.24542178063510622, 0.24551918955776353, 0.25696473796999797, 0.2741087083576855, 0.28847652444963956, 0.31136762127410866, 0.3171147477108903, 0.35135398402493667, 0.35417884278199885, 0.35417884278199885, 0.36844924995129547, 0.3970387687512177, 0.3969900642898889, 0.40556204948373276, 0.4113091759205143, 0.4113091759205143]\n"
     ]
    }
   ],
   "source": [
    "print(MSE)"
   ]
  },
  {
   "cell_type": "code",
   "execution_count": 48,
   "metadata": {},
   "outputs": [
    {
     "name": "stdout",
     "output_type": "stream",
     "text": [
      "[0.896990064289889, 0.8541301383206701, 0.8400058445353594, 0.8542762517046562, 0.8484317163452172, 0.8342100136372492, 0.7999220728618742, 0.7915449055133451, 0.7802454704850964, 0.7545782193648938, 0.7544808104422365, 0.743035262030002, 0.7258912916423145, 0.7115234755503604, 0.6886323787258913, 0.6828852522891097, 0.6486460159750633, 0.6458211572180012, 0.6458211572180012, 0.6315507500487045, 0.6029612312487823, 0.6030099357101111, 0.5944379505162672, 0.5886908240794857, 0.5886908240794857]\n"
     ]
    }
   ],
   "source": [
    "print(Cv_score)"
   ]
  },
  {
   "cell_type": "code",
   "execution_count": 49,
   "metadata": {},
   "outputs": [
    {
     "data": {
      "text/plain": [
       "[<matplotlib.lines.Line2D at 0xa3fdd26748>]"
      ]
     },
     "execution_count": 49,
     "metadata": {},
     "output_type": "execute_result"
    },
    {
     "data": {
      "image/png": "[encoded data removed]",
      "text/plain": [
       "<Figure size 432x288 with 1 Axes>"
      ]
     },
     "metadata": {
      "needs_background": "light"
     },
     "output_type": "display_data"
    }
   ],
   "source": [
    "plt.plot(neighbors,MSE)"
   ]
  },
  {
   "cell_type": "code",
   "execution_count": null,
   "metadata": {},
   "outputs": [],
   "source": [
    " "
   ]
  }
 ],
 "metadata": {
  "kernelspec": {
   "display_name": "Python 3",
   "language": "python",
   "name": "python3"
  },
  "language_info": {
   "codemirror_mode": {
    "name": "ipython",
    "version": 3
   },
   "file_extension": ".py",
   "mimetype": "text/x-python",
   "name": "python",
   "nbconvert_exporter": "python",
   "pygments_lexer": "ipython3",
   "version": "3.7.3"
  }
 },
 "nbformat": 4,
 "nbformat_minor": 2
}
